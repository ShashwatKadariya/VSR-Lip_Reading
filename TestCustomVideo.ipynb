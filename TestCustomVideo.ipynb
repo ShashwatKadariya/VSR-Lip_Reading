{
 "cells": [
  {
   "cell_type": "code",
   "execution_count": 242,
   "id": "ddeabbfd-6d59-468f-934c-7e8b7cc6f166",
   "metadata": {},
   "outputs": [],
   "source": [
    "import os\n",
    "import cv2\n",
    "import tensorflow as tf\n",
    "import numpy as np\n",
    "from typing import List\n",
    "import gdown\n",
    "import imageio\n",
    "import matplotlib\n",
    "from matplotlib import pyplot as plt"
   ]
  },
  {
   "cell_type": "code",
   "execution_count": 243,
   "id": "39a8676b-0f30-4083-a1d7-bbe6bfba8055",
   "metadata": {},
   "outputs": [],
   "source": [
    "from tensorflow.keras.models import Sequential\n",
    "from tensorflow.keras.layers import Conv3D, LSTM, Dense, Dropout, Bidirectional, MaxPool3D, Activation, Reshape, SpatialDropout3D, BatchNormalization, TimeDistributed, Flatten\n",
    "from tensorflow.keras.optimizers import Adam,legacy\n",
    "from tensorflow.keras.callbacks import ModelCheckpoint, LearningRateScheduler\n"
   ]
  },
  {
   "cell_type": "code",
   "execution_count": 272,
   "id": "30e2f586-855a-40a7-82de-a184a06c8dcf",
   "metadata": {},
   "outputs": [],
   "source": [
    "PATH = \"./test.mpg\""
   ]
  },
  {
   "cell_type": "code",
   "execution_count": 273,
   "id": "7fdc8ff4-9da6-4d8a-bd9a-da271270299c",
   "metadata": {},
   "outputs": [],
   "source": [
    "import dlib"
   ]
  },
  {
   "cell_type": "code",
   "execution_count": 445,
   "id": "85270716-66e9-4fe6-b12c-00edf2accd07",
   "metadata": {},
   "outputs": [],
   "source": [
    "PREDICTOR_PATH = \"/Users/shashwatkadadriya/Development/FinalYearProject/LipNetV1/LipNetV2/LipNet/shape_predictor_68_face_landmarks.dat\"  # Download from Dlib's model zoo\n",
    "detector = dlib.get_frontal_face_detector()\n",
    "predictor = dlib.shape_predictor(PREDICTOR_PATH)\n",
    "\n",
    "def extract_lips(frame, margin=20):\n",
    "    \"\"\"\n",
    "    Detect and extract the lip region from a single frame.\n",
    "    \n",
    "    Parameters:\n",
    "        frame (np.array): A grayscale image frame.\n",
    "\n",
    "    Returns:\n",
    "        np.array: Cropped lip region.\n",
    "    \"\"\"\n",
    "    # Detect faces in the frame\n",
    "    faces = detector(frame, 0)\n",
    "\n",
    "    if len(faces) == 0:\n",
    "        return None  # No faces detected\n",
    "\n",
    "    for face in faces:\n",
    "            # Get facial landmarks\n",
    "            landmarks = predictor(frame, face)\n",
    "    \n",
    "            # Nose tip (landmark 30) and chin (landmark 8)\n",
    "            nose_tip = (landmarks.part(30).x, landmarks.part(30).y)\n",
    "            chin = (landmarks.part(8).x, landmarks.part(8).y)\n",
    "    \n",
    "            # Calculate bounding box for the region below the nose\n",
    "            x1 = min(landmarks.part(i).x for i in range(4, 13)) - margin  # Horizontal range of the lower face\n",
    "            x2 = max(landmarks.part(i).x for i in range(4, 13)) + margin\n",
    "            y1 = nose_tip[1] - margin\n",
    "            y2 = chin[1] + margin\n",
    "    \n",
    "            # Ensure the coordinates are within frame boundaries\n",
    "            x1 = max(0, x1)\n",
    "            y1 = max(0, y1)\n",
    "            x2 = min(frame.shape[1], x2)\n",
    "            y2 = min(frame.shape[0], y2)\n",
    "    \n",
    "            # Crop the region below the nose\n",
    "            cropped_region = frame[y1:y2, x1:x2]\n",
    "    \n",
    "            return cropped_region\n",
    "    \n",
    "    return None\n",
    "\n",
    "\n",
    "def load_video(path: str, target_frames: int = 75) -> tf.Tensor:\n",
    "    \"\"\"\n",
    "    Load and preprocess a video to extract the lip region dynamically and match the model's input shape.\n",
    "\n",
    "    Parameters:\n",
    "        path (str): Path to the video file.\n",
    "        target_frames (int): The fixed number of frames required by the model (default is 75).\n",
    "\n",
    "    Returns:\n",
    "        tf.Tensor: Tensor of shape (target_frames, 46, 140, 1), padded or truncated as needed.\n",
    "    \"\"\"\n",
    "    cap = cv2.VideoCapture(path)\n",
    "    frames = []\n",
    "\n",
    "    while True:\n",
    "        ret, frame = cap.read()\n",
    "\n",
    "        if not ret:\n",
    "            break\n",
    "\n",
    "        # Convert frame to grayscale\n",
    "        gray = cv2.cvtColor(frame, cv2.COLOR_BGR2GRAY)\n",
    "\n",
    "        # Extract lips from the frame\n",
    "        cropped_lips = extract_lips(gray, margin=20)\n",
    "\n",
    "        if cropped_lips is None:\n",
    "            continue  # Skip frames without lips detected\n",
    "\n",
    "        # Resize cropped lips to (46, 140)\n",
    "        resized_lips = cv2.resize(cropped_lips, (140, 46))\n",
    "\n",
    "        # Add to frames\n",
    "        frames.append(resized_lips)\n",
    "\n",
    "    cap.release()\n",
    "\n",
    "    if not frames:\n",
    "        return tf.constant([])  # Return an empty tensor if no frames are processed\n",
    "\n",
    "    # Normalize the frames (to [0, 1])\n",
    "    frames = np.array(frames, dtype=np.float32) / 255.0\n",
    "\n",
    "    # Add a channel dimension for grayscale (shape: [frames, 46, 140, 1])\n",
    "    frames = np.expand_dims(frames, axis=-1)\n",
    "\n",
    "    # Pad or truncate to match the required number of frames (target_frames)\n",
    "    if len(frames) < target_frames:\n",
    "        # Pad with zeros if frames are fewer than target_frames\n",
    "        padding = np.zeros((target_frames - len(frames), 46, 140, 1), dtype=np.float32)\n",
    "        frames = np.concatenate((frames, padding), axis=0)\n",
    "    elif len(frames) > target_frames:\n",
    "        # Truncate frames if they exceed target_frames\n",
    "        frames = frames[:target_frames]\n",
    "\n",
    "    # Ensure final shape is (target_frames, 46, 140, 1)\n",
    "    return tf.convert_to_tensor(frames, dtype=tf.float32)\n",
    "\n"
   ]
  },
  {
   "cell_type": "code",
   "execution_count": 424,
   "id": "ab457eed-82c6-42ed-bf2d-9ca29f9e3e46",
   "metadata": {},
   "outputs": [],
   "source": [
    "def load_video(path: str, target_frames: int = 75) -> tf.Tensor:\n",
    "    cap = cv2.VideoCapture(path)\n",
    "    frames = []\n",
    "\n",
    "    while True:\n",
    "        ret, frame = cap.read()\n",
    "        if not ret:\n",
    "            break\n",
    "\n",
    "        # Convert frame to grayscale\n",
    "        gray = cv2.cvtColor(frame, cv2.COLOR_BGR2GRAY)\n",
    "\n",
    "        # Extract lips with an expanded margin\n",
    "        cropped_lips = extract_lips(gray)\n",
    "\n",
    "        if cropped_lips is None:\n",
    "            continue  # Skip frames without lips detected\n",
    "\n",
    "        # Resize the extracted lip region to (46, 140)\n",
    "        resized_lips = cv2.resize(cropped_lips, (140, 46))\n",
    "\n",
    "        frames.append(resized_lips)\n",
    "\n",
    "    cap.release()\n",
    "\n",
    "    if not frames:\n",
    "        return tf.constant([])\n",
    "\n",
    "    # Normalize frames to [0, 1]\n",
    "    frames = np.array(frames, dtype=np.float32) / 255.0\n",
    "\n",
    "    # Add a channel dimension (grayscale -> 1 channel)\n",
    "    frames = np.expand_dims(frames, axis=-1)\n",
    "\n",
    "    # Ensure the tensor shape is 5D: (1, depth, height, width, channels)\n",
    "    frames = np.expand_dims(frames, axis=0)  # Add batch dimension\n",
    "\n",
    "    # Pad or truncate to match the target number of frames\n",
    "    if frames.shape[1] < target_frames:\n",
    "        padding = np.zeros((1, target_frames - frames.shape[1], 46, 140, 1), dtype=np.float32)\n",
    "        frames = np.concatenate((frames, padding), axis=1)\n",
    "    elif frames.shape[1] > target_frames:\n",
    "        frames = frames[:, :target_frames, :, :, :]\n",
    "\n",
    "    return tf.convert_to_tensor(frames, dtype=tf.float32)\n",
    "\n"
   ]
  },
  {
   "cell_type": "code",
   "execution_count": 338,
   "id": "74f4b0ee-ea11-432b-87b1-e3f28d645484",
   "metadata": {},
   "outputs": [],
   "source": [
    "#Define the vocabulary as a list of all possible characters we may encounter in our annotations\n",
    "vocab = [x for x in \"abcdefghijklmnopqrstuvwxyz'?!123456789 \"]"
   ]
  },
  {
   "cell_type": "code",
   "execution_count": 339,
   "id": "dcc687a4-9761-44ed-bbe5-4ccb18db1193",
   "metadata": {},
   "outputs": [
    {
     "name": "stdout",
     "output_type": "stream",
     "text": [
      "The vocabulary is: ['', 'a', 'b', 'c', 'd', 'e', 'f', 'g', 'h', 'i', 'j', 'k', 'l', 'm', 'n', 'o', 'p', 'q', 'r', 's', 't', 'u', 'v', 'w', 'x', 'y', 'z', \"'\", '?', '!', '1', '2', '3', '4', '5', '6', '7', '8', '9', ' '] (size =40)\n"
     ]
    }
   ],
   "source": [
    "# String to number mapping\n",
    "char_to_num = tf.keras.layers.StringLookup(\n",
    "    vocabulary=vocab, oov_token=\"\"\n",
    ")\n",
    "\n",
    "# Number to string mapping\n",
    "num_to_char = tf.keras.layers.StringLookup(\n",
    "    vocabulary=char_to_num.get_vocabulary(), oov_token=\"\", invert=True\n",
    ")\n",
    "\n",
    "# Print vocabulary information\n",
    "print(\n",
    "    f\"The vocabulary is: {char_to_num.get_vocabulary()} \"\n",
    "    f\"(size ={char_to_num.vocabulary_size()})\"\n",
    ")"
   ]
  },
  {
   "cell_type": "code",
   "execution_count": 340,
   "id": "5fd9cbd7-4aec-4c9d-afce-41dd413ad044",
   "metadata": {},
   "outputs": [],
   "source": [
    "def load_data(path: str):\n",
    "    \"\"\"\n",
    "    Load data from the specified path\n",
    "\n",
    "    Parameters:\n",
    "        path (str): The path to the data file.\n",
    "\n",
    "    Returns:\n",
    "        Tuple[List[float], List[str]]: A tuple containing the loaded video frames and alignments.\n",
    "    \"\"\"\n",
    "    # Convert path from bytes to string\n",
    "    path = bytes.decode(path.numpy())\n",
    "\n",
    "    # Extract file name from the path\n",
    "    file_name = path.split('/')[-1].split('.')[0]\n",
    "\n",
    "    # Construct paths for video and alignment files\n",
    "    video_path = os.path.join('.', f'{file_name}.mpg')\n",
    "\n",
    "    # Load video frames\n",
    "    frames = load_video(video_path)\n",
    "\n",
    "    return frames\n"
   ]
  },
  {
   "cell_type": "code",
   "execution_count": 341,
   "id": "b98594ee-4a6c-41a5-adeb-d4789f043058",
   "metadata": {},
   "outputs": [],
   "source": [
    "def mappable_function(path: str) -> List[str]:\n",
    "    \"\"\"\n",
    "    A mappable function to load data from the specified path.\n",
    "\n",
    "    Parameters:\n",
    "        path (str): The path to the data file.\n",
    "\n",
    "    Returns:\n",
    "        List[str]: A list containing the loaded video frames and alignments.\n",
    "    \"\"\"\n",
    "    # Call load_data using tf.py_function\n",
    "    result = tf.py_function(load_data, [path], tf.float32)\n",
    "\n",
    "    return result"
   ]
  },
  {
   "cell_type": "code",
   "execution_count": 446,
   "id": "c0d41421-0d9f-4df0-a55a-800934411e27",
   "metadata": {},
   "outputs": [],
   "source": [
    "#Load the data and unpack the frame and alignments\n",
    "frames = load_data(tf.convert_to_tensor(PATH))\n",
    "# frames = tf.expand_dims(frames, axis=0)  # Shape: (1, 75, 46, 140, 1)\n"
   ]
  },
  {
   "cell_type": "code",
   "execution_count": 447,
   "id": "9d3641df-52ae-47f9-9507-253dc834e4ed",
   "metadata": {},
   "outputs": [
    {
     "data": {
      "text/plain": [
       "<matplotlib.image.AxesImage at 0x314caa1f0>"
      ]
     },
     "execution_count": 447,
     "metadata": {},
     "output_type": "execute_result"
    },
    {
     "data": {
      "image/png": "[encoded data removed]",
      "text/plain": [
       "<Figure size 640x480 with 1 Axes>"
      ]
     },
     "metadata": {},
     "output_type": "display_data"
    }
   ],
   "source": [
    "plt.imshow(frames[10])"
   ]
  },
  {
   "cell_type": "code",
   "execution_count": 251,
   "id": "c455d06c-0ecb-4f9e-8f9e-e38bf2292cf5",
   "metadata": {},
   "outputs": [],
   "source": [
    "from tensorflow.keras.models import Sequential\n",
    "from tensorflow.keras.layers import Conv3D, Activation, MaxPool3D, TimeDistributed, Flatten, Bidirectional, LSTM, Dropout, Dense\n",
    "\n",
    "# Create a Sequential model\n",
    "model = Sequential()\n",
    "\n",
    "# Add a 3D convolutional layer with 128 filters, kernel size 3x3x3, and input shape of (75, 46, 140, 1)\n",
    "model.add(Conv3D(128, 3, input_shape=(75,46,140,1), padding='same'))\n",
    "\n",
    "# Add ReLU activation function\n",
    "model.add(Activation('relu'))\n",
    "\n",
    "# Add 3D max pooling layer with pool size (1,2,2)\n",
    "model.add(MaxPool3D((1,2,2)))\n",
    "\n",
    "# Add another 3D convolutional layer with 256 filters and kernel size 3x3x3\n",
    "model.add(Conv3D(256, 3, padding='same'))\n",
    "\n",
    "# Add ReLU activation function\n",
    "model.add(Activation('relu'))\n",
    "\n",
    "# Add 3D max pooling layer with pool size (1,2,2)\n",
    "model.add(MaxPool3D((1,2,2)))\n",
    "\n",
    "# Add another 3D convolutional layer with 75 filters and kernel size 3x3x3\n",
    "model.add(Conv3D(75, 3, padding='same'))\n",
    "\n",
    "# Add ReLU activation function\n",
    "model.add(Activation('relu'))\n",
    "\n",
    "# Add 3D max pooling layer with pool size (1,2,2)\n",
    "model.add(MaxPool3D((1,2,2)))\n",
    "\n",
    "# Add TimeDistributed layer to apply Flatten operation to each time step independently\n",
    "model.add(TimeDistributed(Flatten()))\n",
    "\n",
    "#\n",
    "Add Bidirectional LSTM layer with 128 units, using Orthogonal kernel initializer, returning sequences\n",
    "model.add(Bidirectional(LSTM(128, kernel_initializer='Orthogonal', return_sequences=True)))\n",
    "\n",
    "# Add dropout layer with dropout rate of 0.5\n",
    "model.add(Dropout(0.5))\n",
    "\n",
    "# Add another Bidirectional LSTM layer with 128 units, using Orthogonal kernel initializer, returning sequences\n",
    "model.add(Bidirectional(LSTM(128, kernel_initializer='Orthogonal', return_sequences=True)))\n",
    "\n",
    "# Add dropout layer with dropout rate of 0.5\n",
    "model.add(Dropout(0.5))\n",
    "\n",
    "# Add Dense layer with number of units equal to vocabulary size + 1, using he_normal kernel initializer and softmax activation function\n",
    "model.add(Dense(char_to_num.vocabulary_size() + 1, kernel_initializer='he_normal', activation='softmax'))\n"
   ]
  },
  {
   "cell_type": "code",
   "execution_count": 252,
   "id": "5dfed0bc-5a59-454f-b541-7c9d766ff73e",
   "metadata": {},
   "outputs": [
    {
     "name": "stdout",
     "output_type": "stream",
     "text": [
      "Model: \"sequential_3\"\n",
      "_________________________________________________________________\n",
      " Layer (type)                Output Shape              Param #   \n",
      "=================================================================\n",
      " conv3d_9 (Conv3D)           (None, 75, 46, 140, 128)  3584      \n",
      "                                                                 \n",
      " activation_9 (Activation)   (None, 75, 46, 140, 128)  0         \n",
      "                                                                 \n",
      " max_pooling3d_9 (MaxPooling  (None, 75, 23, 70, 128)  0         \n",
      " 3D)                                                             \n",
      "                                                                 \n",
      " conv3d_10 (Conv3D)          (None, 75, 23, 70, 256)   884992    \n",
      "                                                                 \n",
      " activation_10 (Activation)  (None, 75, 23, 70, 256)   0         \n",
      "                                                                 \n",
      " max_pooling3d_10 (MaxPoolin  (None, 75, 11, 35, 256)  0         \n",
      " g3D)                                                            \n",
      "                                                                 \n",
      " conv3d_11 (Conv3D)          (None, 75, 11, 35, 75)    518475    \n",
      "                                                                 \n",
      " activation_11 (Activation)  (None, 75, 11, 35, 75)    0         \n",
      "                                                                 \n",
      " max_pooling3d_11 (MaxPoolin  (None, 75, 5, 17, 75)    0         \n",
      " g3D)                                                            \n",
      "                                                                 \n",
      " time_distributed_3 (TimeDis  (None, 75, 6375)         0         \n",
      " tributed)                                                       \n",
      "                                                                 \n",
      " bidirectional_6 (Bidirectio  (None, 75, 256)          6660096   \n",
      " nal)                                                            \n",
      "                                                                 \n",
      " dropout_6 (Dropout)         (None, 75, 256)           0         \n",
      "                                                                 \n",
      " bidirectional_7 (Bidirectio  (None, 75, 256)          394240    \n",
      " nal)                                                            \n",
      "                                                                 \n",
      " dropout_7 (Dropout)         (None, 75, 256)           0         \n",
      "                                                                 \n",
      " dense_3 (Dense)             (None, 75, 41)            10537     \n",
      "                                                                 \n",
      "=================================================================\n",
      "Total params: 8,471,924\n",
      "Trainable params: 8,471,924\n",
      "Non-trainable params: 0\n",
      "_________________________________________________________________\n"
     ]
    }
   ],
   "source": [
    "model.summary()"
   ]
  },
  {
   "cell_type": "code",
   "execution_count": 253,
   "id": "84976b29-9ed2-4f5f-aee1-c7e87ef95723",
   "metadata": {},
   "outputs": [],
   "source": [
    "checkpoint_callback = ModelCheckpoint(os.path.join('models','checkpoint.weights.h5'), monitor='loss', save_weights_only=True)"
   ]
  },
  {
   "cell_type": "code",
   "execution_count": 254,
   "id": "e3a973c3-bcea-44b6-9849-1076724dbd56",
   "metadata": {},
   "outputs": [
    {
     "ename": "AttributeError",
     "evalue": "'str' object has no attribute 'map'",
     "output_type": "error",
     "traceback": [
      "\u001b[0;31m---------------------------------------------------------------------------\u001b[0m",
      "\u001b[0;31mAttributeError\u001b[0m                            Traceback (most recent call last)",
      "Cell \u001b[0;32mIn[254], line 14\u001b[0m\n\u001b[1;32m     11\u001b[0m     \u001b[38;5;28;01mreturn\u001b[39;00m dataset\n\u001b[1;32m     13\u001b[0m \u001b[38;5;66;03m# Apply the processing function to your dataset\u001b[39;00m\n\u001b[0;32m---> 14\u001b[0m processed_dataset \u001b[38;5;241m=\u001b[39m \u001b[43mprocess_dataset\u001b[49m\u001b[43m(\u001b[49m\u001b[43mPATH\u001b[49m\u001b[43m)\u001b[49m\n",
      "Cell \u001b[0;32mIn[254], line 10\u001b[0m, in \u001b[0;36mprocess_dataset\u001b[0;34m(dataset)\u001b[0m\n\u001b[1;32m      8\u001b[0m \u001b[38;5;28;01mdef\u001b[39;00m \u001b[38;5;21mprocess_dataset\u001b[39m(dataset):\n\u001b[1;32m      9\u001b[0m     \u001b[38;5;66;03m# Map the preprocessing function to adjust the first tensor to match input shape\u001b[39;00m\n\u001b[0;32m---> 10\u001b[0m     dataset \u001b[38;5;241m=\u001b[39m \u001b[43mdataset\u001b[49m\u001b[38;5;241;43m.\u001b[39;49m\u001b[43mmap\u001b[49m(\u001b[38;5;28;01mlambda\u001b[39;00m x, y: (preprocess_input(x), y))\n\u001b[1;32m     11\u001b[0m     \u001b[38;5;28;01mreturn\u001b[39;00m dataset\n",
      "\u001b[0;31mAttributeError\u001b[0m: 'str' object has no attribute 'map'"
     ]
    }
   ],
   "source": [
    "# Assuming 'test' is your dataset\n",
    "def preprocess_input(tensor, target_shape=(75, 46, 140, 1)):\n",
    "    # Reshape or pad to match target shape if necessary\n",
    "    # This assumes tensor has shape (75, None, None, None)\n",
    "    tensor = tf.reshape(tensor, [-1, *target_shape])\n",
    "    return tensor\n",
    "\n",
    "def process_dataset(dataset):\n",
    "    # Map the preprocessing function to adjust the first tensor to match input shape\n",
    "    dataset = dataset.map(lambda x, y: (preprocess_input(x), y))\n",
    "    return dataset\n",
    "\n",
    "# Apply the processing function to your dataset\n",
    "processed_dataset = process_dataset(PATH)\n"
   ]
  },
  {
   "cell_type": "code",
   "execution_count": 255,
   "id": "c0709c80-5a05-4725-adb1-d6297a1da92f",
   "metadata": {},
   "outputs": [
    {
     "data": {
      "text/plain": [
       "<tensorflow.python.training.tracking.util.CheckpointLoadStatus at 0x318681370>"
      ]
     },
     "execution_count": 255,
     "metadata": {},
     "output_type": "execute_result"
    }
   ],
   "source": [
    "model.load_weights('models/checkpoint')"
   ]
  },
  {
   "cell_type": "code",
   "execution_count": 448,
   "id": "2138677d-a0e5-469c-baca-d46b829269d4",
   "metadata": {},
   "outputs": [
    {
     "name": "stdout",
     "output_type": "stream",
     "text": [
      "1/1 [==============================] - 1s 714ms/step\n"
     ]
    }
   ],
   "source": [
    "frames = tf.expand_dims(frames, axis=0)  # Shape: (1, 75, 46, 140, 1)\n",
    "yhat = model.predict(frames)"
   ]
  },
  {
   "cell_type": "code",
   "execution_count": 449,
   "id": "26a0011c-2489-4210-8899-f7f9ddae21da",
   "metadata": {},
   "outputs": [],
   "source": []
  },
  {
   "cell_type": "code",
   "execution_count": 462,
   "id": "9ca8df15-cdbd-4959-bf4f-d7ce4cf32cf5",
   "metadata": {},
   "outputs": [],
   "source": [
    "decoded = tf.keras.backend.ctc_decode(yhat, input_length=[75])[0][0].numpy()"
   ]
  },
  {
   "cell_type": "code",
   "execution_count": 463,
   "id": "163fce5f-4c5c-4903-b1b9-3135b4ee31c4",
   "metadata": {},
   "outputs": [
    {
     "data": {
      "text/plain": [
       "[<tf.Tensor: shape=(), dtype=string, numpy=b'la re at fou ain wbp phe agin'>]"
      ]
     },
     "execution_count": 463,
     "metadata": {},
     "output_type": "execute_result"
    }
   ],
   "source": [
    "[tf.strings.reduce_join([num_to_char(word) for word in sentence]) for sentence in decoded]"
   ]
  },
  {
   "cell_type": "code",
   "execution_count": null,
   "id": "9aa38fad-1fc6-4c31-b135-ea5f66e85572",
   "metadata": {},
   "outputs": [],
   "source": []
  },
  {
   "cell_type": "code",
   "execution_count": 381,
   "id": "3e8d6ca9-8494-418c-a277-16fdf863212b",
   "metadata": {},
   "outputs": [
    {
     "data": {
      "text/plain": [
       "array([[[4.9353874e-04, 2.0822689e-02, 5.0585750e-02, ...,\n",
       "         1.3939131e-06, 1.6041059e-02, 7.8169006e-04],\n",
       "        [6.3266157e-04, 2.5051418e-01, 5.4597645e-03, ...,\n",
       "         1.1866890e-06, 5.5272814e-02, 7.3925930e-04],\n",
       "        [6.2066398e-04, 2.3596816e-01, 3.1744144e-03, ...,\n",
       "         2.1262617e-06, 3.4767288e-01, 3.9505394e-04],\n",
       "        ...,\n",
       "        [4.2393067e-01, 2.5454585e-03, 1.2055571e-01, ...,\n",
       "         1.2950366e-05, 1.2222825e-01, 5.2483954e-02],\n",
       "        [8.0914199e-02, 3.9921398e-03, 3.6864787e-02, ...,\n",
       "         3.5293233e-05, 1.9957042e-01, 1.8276300e-01],\n",
       "        [8.5820451e-02, 1.8119465e-03, 2.4419017e-02, ...,\n",
       "         1.5570227e-05, 5.2924973e-01, 1.2818190e-02]]], dtype=float32)"
      ]
     },
     "execution_count": 381,
     "metadata": {},
     "output_type": "execute_result"
    }
   ],
   "source": [
    "yhat"
   ]
  },
  {
   "cell_type": "code",
   "execution_count": null,
   "id": "a8d53a9c-32b2-4cc7-91ec-d1659abb2069",
   "metadata": {},
   "outputs": [],
   "source": []
  }
 ],
 "metadata": {
  "kernelspec": {
   "display_name": "Python 3 (ipykernel)",
   "language": "python",
   "name": "python3"
  },
  "language_info": {
   "codemirror_mode": {
    "name": "ipython",
    "version": 3
   },
   "file_extension": ".py",
   "mimetype": "text/x-python",
   "name": "python",
   "nbconvert_exporter": "python",
   "pygments_lexer": "ipython3",
   "version": "3.9.20"
  }
 },
 "nbformat": 4,
 "nbformat_minor": 5
}
